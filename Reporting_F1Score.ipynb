{
  "nbformat": 4,
  "nbformat_minor": 0,
  "metadata": {
    "colab": {
      "name": "Reporting_F1Score.ipynb",
      "provenance": [],
      "authorship_tag": "ABX9TyOn9Q0hRslZ4WSWTJrMSHai",
      "include_colab_link": true
    },
    "kernelspec": {
      "name": "python3",
      "display_name": "Python 3"
    },
    "language_info": {
      "name": "python"
    }
  },
  "cells": [
    {
      "cell_type": "markdown",
      "metadata": {
        "id": "view-in-github",
        "colab_type": "text"
      },
      "source": [
        "<a href=\"https://colab.research.google.com/github/sakethbachu/Resmodel/blob/main/Reporting_F1Score.ipynb\" target=\"_parent\"><img src=\"https://colab.research.google.com/assets/colab-badge.svg\" alt=\"Open In Colab\"/></a>"
      ]
    },
    {
      "cell_type": "code",
      "metadata": {
        "id": "UATvVgG5ADYV"
      },
      "source": [
        "import torch.nn.functional as F\n",
        "import torch\n",
        "\n",
        "def metrics_f1(y_true, y_pred):\n",
        "\n",
        "  '''\n",
        "  Helper function for F1score\n",
        "\n",
        "  Input: y_true: A binary tensor of ndim = 2\n",
        "  y_pred: A binary tensor of ndim = 2 (After passing through softmax and setting of the threshold/argmax)\n",
        "    \n",
        "  Returns: Precision, Recall, F1 - score\n",
        "\n",
        "  '''\n",
        "\n",
        "  pr, rec, f1 = F1_Score(y_true, y_pred)\n",
        "\n",
        "  print('Precision : ', pr, '\\nRecall : ', rec, '\\nF1-Score : ', f1)\n",
        "\n",
        "\n",
        "\n",
        "def F1_Score(y_true, y_pred):\n",
        "    '''\n",
        "    Input: y_true: A binary tensor of ndim = 2\n",
        "    y_pred: A binary tensor of ndim = 2 (After passing through softmax and setting of the threshold/argmax)\n",
        "    \n",
        "    Returns: F1 - score\n",
        "    \n",
        "    '''\n",
        "    epsilon = 1e-7\n",
        "\n",
        "    if type(y_pred) and type(y_true) != torch.Tensor:\n",
        "\n",
        "      y_true = torch.tensor(y_true)\n",
        "      y_pred = torch.tensor(y_pred)\n",
        "\n",
        "\n",
        "    y_true = torch.flatten(y_true).to(torch.float32)\n",
        "    y_pred = torch.flatten(y_pred).to(torch.float32)\n",
        "        \n",
        "    # assert y_true.ndim == 1\n",
        "\n",
        "    # assert y_pred.ndim == 1 \n",
        "\n",
        "    # print(y_true)\n",
        "    # print(y_pred)\n",
        "    \n",
        "    tp = (y_true * y_pred).sum(dim=0).to(torch.float32)\n",
        "    tn = ((1 - y_true) * (1 - y_pred)).sum(dim=0).to(torch.float32)\n",
        "    fp = ((1 - y_true) * y_pred).sum(dim=0).to(torch.float32)\n",
        "    fn = (y_true * (1 - y_pred)).sum(dim=0).to(torch.float32)\n",
        "\n",
        "    precision = tp / (tp + fp + epsilon)\n",
        "    recall = tp / (tp + fn + epsilon)\n",
        "\n",
        "    f1 = 2* (precision*recall) / (precision + recall + epsilon)\n",
        "\n",
        "    return precision, recall, f1"
      ],
      "execution_count": 115,
      "outputs": []
    },
    {
      "cell_type": "code",
      "metadata": {
        "colab": {
          "base_uri": "https://localhost:8080/"
        },
        "id": "wGR4lHBzAtaD",
        "outputId": "85af010a-2348-4348-8502-f788901a15e0"
      },
      "source": [
        "from sklearn.metrics import f1_score\n",
        "\n",
        "\n",
        "#Already flattened\n",
        "y_true = [0, 1, 0, 0, 1, 1, 1, 0]\n",
        "\n",
        "y_pred = [0, 1, 0, 0, 0, 1, 0, 0]\n",
        "\n",
        "\n",
        "skl = f1_score(y_true, y_pred, pos_label=1, average='binary')\n",
        "\n",
        "\n",
        "metrics_f1(y_true, y_pred)\n",
        "\n",
        "print('F1-Score from sklearn: ', skl)"
      ],
      "execution_count": 116,
      "outputs": [
        {
          "output_type": "stream",
          "name": "stdout",
          "text": [
            "Precision :  tensor(1.) \n",
            "Recall :  tensor(0.5000) \n",
            "F1-Score :  tensor(0.6667)\n",
            "F1-Score from sklearn:  0.6666666666666666\n"
          ]
        }
      ]
    },
    {
      "cell_type": "code",
      "metadata": {
        "colab": {
          "base_uri": "https://localhost:8080/"
        },
        "id": "1dq2SJM_HutZ",
        "outputId": "be0775e6-2e64-40da-84d3-1bfccc3af22c"
      },
      "source": [
        "from sklearn.metrics import f1_score\n",
        "\n",
        "\n",
        "#Already flattened\n",
        "y_true = [[0, 1, 0],\n",
        "          [0, 1, 1],\n",
        "          [1, 0, 0]]\n",
        "\n",
        "y_pred = [[0, 1, 0],\n",
        "         [0, 0, 1], \n",
        "         [0, 0, 0]]\n",
        "\n",
        "skl = f1_score(y_true, y_pred, pos_label=1, average='micro')\n",
        "\n",
        "metrics_f1(y_true, y_pred)\n",
        "\n",
        "print('F1-Score from sklearn: ', skl)"
      ],
      "execution_count": 113,
      "outputs": [
        {
          "output_type": "stream",
          "name": "stdout",
          "text": [
            "Precision :  tensor(1.) \n",
            "Recall :  tensor(0.5000) \n",
            "F1-Score :  tensor(0.6667)\n",
            "F1-Score from sklearn:  0.6666666666666666\n"
          ]
        }
      ]
    },
    {
      "cell_type": "code",
      "metadata": {
        "id": "BfthPGcBI_Cq"
      },
      "source": [
        ""
      ],
      "execution_count": null,
      "outputs": []
    },
    {
      "cell_type": "code",
      "metadata": {
        "colab": {
          "base_uri": "https://localhost:8080/"
        },
        "id": "JPNMucGdBg7n",
        "outputId": "05aa3a90-bfe0-4a57-ab62-30bed4f42c3e"
      },
      "source": [
        "a = torch.rand(2, 3)\n",
        "b = torch.rand(2, 3)\n",
        "a"
      ],
      "execution_count": 87,
      "outputs": [
        {
          "output_type": "execute_result",
          "data": {
            "text/plain": [
              "tensor([[0.9752, 0.7165, 0.0779],\n",
              "        [0.4521, 0.7870, 0.1850]])"
            ]
          },
          "metadata": {},
          "execution_count": 87
        }
      ]
    },
    {
      "cell_type": "code",
      "metadata": {
        "colab": {
          "base_uri": "https://localhost:8080/"
        },
        "id": "M9QmiXz46QC1",
        "outputId": "f196d630-545e-45e9-cbc1-c2a77790efa5"
      },
      "source": [
        "b"
      ],
      "execution_count": 88,
      "outputs": [
        {
          "output_type": "execute_result",
          "data": {
            "text/plain": [
              "tensor([[0.3736, 0.7412, 0.4793],\n",
              "        [0.8990, 0.6052, 0.9823]])"
            ]
          },
          "metadata": {},
          "execution_count": 88
        }
      ]
    },
    {
      "cell_type": "code",
      "metadata": {
        "colab": {
          "base_uri": "https://localhost:8080/"
        },
        "id": "2LgET04oBvwm",
        "outputId": "b596abbb-5719-454d-f690-fce14a3a15bb"
      },
      "source": [
        "d = metrics_f1(a, b)"
      ],
      "execution_count": 96,
      "outputs": [
        {
          "output_type": "stream",
          "name": "stdout",
          "text": [
            "tensor([0.9752, 0.7165, 0.0779, 0.4521, 0.7870, 0.1850])\n",
            "tensor([0.3736, 0.7412, 0.4793, 0.8990, 0.6052, 0.9823])\n",
            "Precision :  tensor(0.4894) \n",
            "Recall :  tensor(0.6254) \n",
            "F1-Score :  tensor(0.5491)\n"
          ]
        }
      ]
    },
    {
      "cell_type": "code",
      "metadata": {
        "id": "zz9Z1GToFXVC"
      },
      "source": [
        "t = torch.tensor([[1, 0, 0, 1],\n",
        "                  [0, 1, 1, 1]])\n",
        "b = torch.tensor([[1, 1, 0, 0],\n",
        "                  [1, 1, 1, 1]])"
      ],
      "execution_count": 32,
      "outputs": []
    }
  ]
}